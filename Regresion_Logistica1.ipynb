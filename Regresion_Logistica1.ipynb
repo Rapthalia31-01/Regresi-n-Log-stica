{
  "nbformat": 4,
  "nbformat_minor": 0,
  "metadata": {
    "colab": {
      "name": "Regresion_Logistica1.ipynb",
      "provenance": []
    },
    "kernelspec": {
      "name": "python3",
      "display_name": "Python 3"
    },
    "language_info": {
      "name": "python"
    }
  },
  "cells": [
    {
      "cell_type": "code",
      "execution_count": 27,
      "metadata": {
        "id": "mKDX99fzYgss"
      },
      "outputs": [],
      "source": [
        "import pandas as pd\n",
        "import matplotlib.pyplot as plt\n",
        "import numpy as np\n"
      ]
    },
    {
      "cell_type": "code",
      "source": [
        "data = pd.read_csv(r'datavacunas.csv')"
      ],
      "metadata": {
        "id": "q_cyv7M5Yvo2"
      },
      "execution_count": 2,
      "outputs": []
    },
    {
      "cell_type": "code",
      "source": [
        "dataFrame = pd.DataFrame(data)\n",
        "#Elimino el S.I. de la columna sexo\n",
        "dataFrame.drop(dataFrame.index[(dataFrame[\"sexo\"] == \"S.I.\")],axis=0,inplace=True)\n",
        "dataFrame.drop(dataFrame.index[(dataFrame[\"grupo_etario\"] == \">=100\")],axis=0,inplace=True)\n",
        "\n",
        "display(dataFrame)"
      ],
      "metadata": {
        "colab": {
          "base_uri": "https://localhost:8080/",
          "height": 424
        },
        "id": "Le09ZVMgY21d",
        "outputId": "8b43bdec-687a-403a-8217-bf2ddbd7a51f"
      },
      "execution_count": 3,
      "outputs": [
        {
          "output_type": "display_data",
          "data": {
            "text/plain": [
              "     sexo grupo_etario jurisdiccion_aplicacion       vacuna  \\\n",
              "0       M        90-99                 Mendoza      Sputnik   \n",
              "1       F        30-39            Buenos Aires      Sputnik   \n",
              "2       F        30-39            Buenos Aires      Sputnik   \n",
              "3       M        60-69                Santa Fe      Sputnik   \n",
              "4       M        60-69              Entre Ríos      Sputnik   \n",
              "...   ...          ...                     ...          ...   \n",
              "6994    F        80-89            Buenos Aires      Sputnik   \n",
              "6995    F        80-89            Buenos Aires      Sputnik   \n",
              "6996    F        70-79            Buenos Aires   COVISHIELD   \n",
              "6997    F        70-79            Buenos Aires  AstraZeneca   \n",
              "6998    M        80-89            Buenos Aires      Sputnik   \n",
              "\n",
              "     condicion_aplicacion  \n",
              "0             Estratégico  \n",
              "1             Estratégico  \n",
              "2             Estratégico  \n",
              "3           60 o más años  \n",
              "4           60 o más años  \n",
              "...                   ...  \n",
              "6994        60 o más años  \n",
              "6995        60 o más años  \n",
              "6996        60 o más años  \n",
              "6997                Salud  \n",
              "6998        60 o más años  \n",
              "\n",
              "[6973 rows x 5 columns]"
            ],
            "text/html": [
              "\n",
              "  <div id=\"df-a20feb97-c2fb-4e6d-a999-9d81e0bb4661\">\n",
              "    <div class=\"colab-df-container\">\n",
              "      <div>\n",
              "<style scoped>\n",
              "    .dataframe tbody tr th:only-of-type {\n",
              "        vertical-align: middle;\n",
              "    }\n",
              "\n",
              "    .dataframe tbody tr th {\n",
              "        vertical-align: top;\n",
              "    }\n",
              "\n",
              "    .dataframe thead th {\n",
              "        text-align: right;\n",
              "    }\n",
              "</style>\n",
              "<table border=\"1\" class=\"dataframe\">\n",
              "  <thead>\n",
              "    <tr style=\"text-align: right;\">\n",
              "      <th></th>\n",
              "      <th>sexo</th>\n",
              "      <th>grupo_etario</th>\n",
              "      <th>jurisdiccion_aplicacion</th>\n",
              "      <th>vacuna</th>\n",
              "      <th>condicion_aplicacion</th>\n",
              "    </tr>\n",
              "  </thead>\n",
              "  <tbody>\n",
              "    <tr>\n",
              "      <th>0</th>\n",
              "      <td>M</td>\n",
              "      <td>90-99</td>\n",
              "      <td>Mendoza</td>\n",
              "      <td>Sputnik</td>\n",
              "      <td>Estratégico</td>\n",
              "    </tr>\n",
              "    <tr>\n",
              "      <th>1</th>\n",
              "      <td>F</td>\n",
              "      <td>30-39</td>\n",
              "      <td>Buenos Aires</td>\n",
              "      <td>Sputnik</td>\n",
              "      <td>Estratégico</td>\n",
              "    </tr>\n",
              "    <tr>\n",
              "      <th>2</th>\n",
              "      <td>F</td>\n",
              "      <td>30-39</td>\n",
              "      <td>Buenos Aires</td>\n",
              "      <td>Sputnik</td>\n",
              "      <td>Estratégico</td>\n",
              "    </tr>\n",
              "    <tr>\n",
              "      <th>3</th>\n",
              "      <td>M</td>\n",
              "      <td>60-69</td>\n",
              "      <td>Santa Fe</td>\n",
              "      <td>Sputnik</td>\n",
              "      <td>60 o más años</td>\n",
              "    </tr>\n",
              "    <tr>\n",
              "      <th>4</th>\n",
              "      <td>M</td>\n",
              "      <td>60-69</td>\n",
              "      <td>Entre Ríos</td>\n",
              "      <td>Sputnik</td>\n",
              "      <td>60 o más años</td>\n",
              "    </tr>\n",
              "    <tr>\n",
              "      <th>...</th>\n",
              "      <td>...</td>\n",
              "      <td>...</td>\n",
              "      <td>...</td>\n",
              "      <td>...</td>\n",
              "      <td>...</td>\n",
              "    </tr>\n",
              "    <tr>\n",
              "      <th>6994</th>\n",
              "      <td>F</td>\n",
              "      <td>80-89</td>\n",
              "      <td>Buenos Aires</td>\n",
              "      <td>Sputnik</td>\n",
              "      <td>60 o más años</td>\n",
              "    </tr>\n",
              "    <tr>\n",
              "      <th>6995</th>\n",
              "      <td>F</td>\n",
              "      <td>80-89</td>\n",
              "      <td>Buenos Aires</td>\n",
              "      <td>Sputnik</td>\n",
              "      <td>60 o más años</td>\n",
              "    </tr>\n",
              "    <tr>\n",
              "      <th>6996</th>\n",
              "      <td>F</td>\n",
              "      <td>70-79</td>\n",
              "      <td>Buenos Aires</td>\n",
              "      <td>COVISHIELD</td>\n",
              "      <td>60 o más años</td>\n",
              "    </tr>\n",
              "    <tr>\n",
              "      <th>6997</th>\n",
              "      <td>F</td>\n",
              "      <td>70-79</td>\n",
              "      <td>Buenos Aires</td>\n",
              "      <td>AstraZeneca</td>\n",
              "      <td>Salud</td>\n",
              "    </tr>\n",
              "    <tr>\n",
              "      <th>6998</th>\n",
              "      <td>M</td>\n",
              "      <td>80-89</td>\n",
              "      <td>Buenos Aires</td>\n",
              "      <td>Sputnik</td>\n",
              "      <td>60 o más años</td>\n",
              "    </tr>\n",
              "  </tbody>\n",
              "</table>\n",
              "<p>6973 rows × 5 columns</p>\n",
              "</div>\n",
              "      <button class=\"colab-df-convert\" onclick=\"convertToInteractive('df-a20feb97-c2fb-4e6d-a999-9d81e0bb4661')\"\n",
              "              title=\"Convert this dataframe to an interactive table.\"\n",
              "              style=\"display:none;\">\n",
              "        \n",
              "  <svg xmlns=\"http://www.w3.org/2000/svg\" height=\"24px\"viewBox=\"0 0 24 24\"\n",
              "       width=\"24px\">\n",
              "    <path d=\"M0 0h24v24H0V0z\" fill=\"none\"/>\n",
              "    <path d=\"M18.56 5.44l.94 2.06.94-2.06 2.06-.94-2.06-.94-.94-2.06-.94 2.06-2.06.94zm-11 1L8.5 8.5l.94-2.06 2.06-.94-2.06-.94L8.5 2.5l-.94 2.06-2.06.94zm10 10l.94 2.06.94-2.06 2.06-.94-2.06-.94-.94-2.06-.94 2.06-2.06.94z\"/><path d=\"M17.41 7.96l-1.37-1.37c-.4-.4-.92-.59-1.43-.59-.52 0-1.04.2-1.43.59L10.3 9.45l-7.72 7.72c-.78.78-.78 2.05 0 2.83L4 21.41c.39.39.9.59 1.41.59.51 0 1.02-.2 1.41-.59l7.78-7.78 2.81-2.81c.8-.78.8-2.07 0-2.86zM5.41 20L4 18.59l7.72-7.72 1.47 1.35L5.41 20z\"/>\n",
              "  </svg>\n",
              "      </button>\n",
              "      \n",
              "  <style>\n",
              "    .colab-df-container {\n",
              "      display:flex;\n",
              "      flex-wrap:wrap;\n",
              "      gap: 12px;\n",
              "    }\n",
              "\n",
              "    .colab-df-convert {\n",
              "      background-color: #E8F0FE;\n",
              "      border: none;\n",
              "      border-radius: 50%;\n",
              "      cursor: pointer;\n",
              "      display: none;\n",
              "      fill: #1967D2;\n",
              "      height: 32px;\n",
              "      padding: 0 0 0 0;\n",
              "      width: 32px;\n",
              "    }\n",
              "\n",
              "    .colab-df-convert:hover {\n",
              "      background-color: #E2EBFA;\n",
              "      box-shadow: 0px 1px 2px rgba(60, 64, 67, 0.3), 0px 1px 3px 1px rgba(60, 64, 67, 0.15);\n",
              "      fill: #174EA6;\n",
              "    }\n",
              "\n",
              "    [theme=dark] .colab-df-convert {\n",
              "      background-color: #3B4455;\n",
              "      fill: #D2E3FC;\n",
              "    }\n",
              "\n",
              "    [theme=dark] .colab-df-convert:hover {\n",
              "      background-color: #434B5C;\n",
              "      box-shadow: 0px 1px 3px 1px rgba(0, 0, 0, 0.15);\n",
              "      filter: drop-shadow(0px 1px 2px rgba(0, 0, 0, 0.3));\n",
              "      fill: #FFFFFF;\n",
              "    }\n",
              "  </style>\n",
              "\n",
              "      <script>\n",
              "        const buttonEl =\n",
              "          document.querySelector('#df-a20feb97-c2fb-4e6d-a999-9d81e0bb4661 button.colab-df-convert');\n",
              "        buttonEl.style.display =\n",
              "          google.colab.kernel.accessAllowed ? 'block' : 'none';\n",
              "\n",
              "        async function convertToInteractive(key) {\n",
              "          const element = document.querySelector('#df-a20feb97-c2fb-4e6d-a999-9d81e0bb4661');\n",
              "          const dataTable =\n",
              "            await google.colab.kernel.invokeFunction('convertToInteractive',\n",
              "                                                     [key], {});\n",
              "          if (!dataTable) return;\n",
              "\n",
              "          const docLinkHtml = 'Like what you see? Visit the ' +\n",
              "            '<a target=\"_blank\" href=https://colab.research.google.com/notebooks/data_table.ipynb>data table notebook</a>'\n",
              "            + ' to learn more about interactive tables.';\n",
              "          element.innerHTML = '';\n",
              "          dataTable['output_type'] = 'display_data';\n",
              "          await google.colab.output.renderOutput(dataTable, element);\n",
              "          const docLink = document.createElement('div');\n",
              "          docLink.innerHTML = docLinkHtml;\n",
              "          element.appendChild(docLink);\n",
              "        }\n",
              "      </script>\n",
              "    </div>\n",
              "  </div>\n",
              "  "
            ]
          },
          "metadata": {}
        }
      ]
    },
    {
      "cell_type": "code",
      "source": [
        "#contador segun sexo\n",
        "sexo = data['sexo'].tolist()\n",
        "hombres = data['sexo'].tolist().count('M')\n",
        "mujeres = data['sexo'].tolist().count('F')\n",
        "\n",
        "#Grafica representando cantidad de vacunados por sexo\n",
        "cantidad = [hombres,mujeres]\n",
        "nombres = ['Hombres','Mujeres']\n",
        "\n",
        "fig, ax = plt.subplots()\n",
        "ax = plt.gca()\n",
        "ax.get_yaxis().get_major_formatter().set_useOffset(False)\n",
        "ax.get_yaxis().get_major_formatter().set_scientific(False)\n",
        "ax.set_ylabel('Cantidad')\n",
        "ax.set_xlabel('Sexo')\n",
        "ax.set_title('Vacunados Según Sexo')\n",
        "plt.bar(nombres,cantidad)\n",
        "plt.show()\n",
        "\n",
        "print(f'Vacunados Hombres:{hombres}')\n",
        "print(f'Vacunados Mujeres:{mujeres}')"
      ],
      "metadata": {
        "colab": {
          "base_uri": "https://localhost:8080/",
          "height": 330
        },
        "id": "5MSlDhXOY6kx",
        "outputId": "9f1abc60-c743-4661-817b-7d117fd3d60f"
      },
      "execution_count": 4,
      "outputs": [
        {
          "output_type": "display_data",
          "data": {
            "text/plain": [
              "<Figure size 432x288 with 1 Axes>"
            ],
            "image/png": "[encoded data removed]"
          },
          "metadata": {
            "needs_background": "light"
          }
        },
        {
          "output_type": "stream",
          "name": "stdout",
          "text": [
            "Vacunados Hombres:3048\n",
            "Vacunados Mujeres:3927\n"
          ]
        }
      ]
    },
    {
      "cell_type": "code",
      "source": [
        "#contador tipo de vacuna\n",
        "tipo_vacuna = data['vacuna'].tolist()\n",
        "sputnik = tipo_vacuna.count('Sputnik')\n",
        "sinopharm = tipo_vacuna.count('Sinopharm')\n",
        "covishield = tipo_vacuna.count('COVISHIELD')\n",
        "astrazeneca = tipo_vacuna.count('AstraZeneca')\n",
        "\n",
        "#Grafica cantidad segun el nombre de la vacuna\n",
        "cantidad_vacunas = [sputnik,sinopharm,covishield,astrazeneca]\n",
        "nombres_vacunas = ['Sputnik','Sinopharm','Covishield','Astrazeneca']\n",
        "\n",
        "fig,ax = plt.subplots()\n",
        "ax = plt.gca()\n",
        "ax.get_yaxis()\n",
        "ax.get_yaxis().get_major_formatter().set_useOffset(False)\n",
        "ax.get_yaxis().get_major_formatter().set_scientific(False)\n",
        "ax.set_ylabel('Aplicadas')\n",
        "ax.set_xlabel('Vacuna')\n",
        "ax.set_title('Tipos de Vacunas Aplicadas')\n",
        "plt.bar(nombres_vacunas,cantidad_vacunas)\n",
        "plt.show()\n",
        "\n",
        "print(f'Vacunas aplicadas = Sputnik {sputnik}, Sinopharm {sinopharm}, Covishield {covishield}, Astrazeneca {astrazeneca}')"
      ],
      "metadata": {
        "colab": {
          "base_uri": "https://localhost:8080/",
          "height": 312
        },
        "id": "_kOEdx3cY-O8",
        "outputId": "0b764c4a-381a-469a-8961-0f8b6e1669f4"
      },
      "execution_count": 6,
      "outputs": [
        {
          "output_type": "display_data",
          "data": {
            "text/plain": [
              "<Figure size 432x288 with 1 Axes>"
            ],
            "image/png": "[encoded data removed]"
          },
          "metadata": {
            "needs_background": "light"
          }
        },
        {
          "output_type": "stream",
          "name": "stdout",
          "text": [
            "Vacunas aplicadas = Sputnik 3032, Sinopharm 1309, Covishield 194, Astrazeneca 2464\n"
          ]
        }
      ]
    },
    {
      "cell_type": "code",
      "source": [
        "#contador segun el grupo etario\n",
        "grupo_etario = data['grupo_etario'].tolist()\n",
        "grupo_etario_18_29 = grupo_etario.count('18-29')\n",
        "grupo_etario_30_39 = grupo_etario.count('30-39')\n",
        "grupo_etario_40_49 = grupo_etario.count('40-49')\n",
        "grupo_etario_50_59 = grupo_etario.count('50-59')\n",
        "grupo_etario_60_69 = grupo_etario.count('60-69')\n",
        "grupo_etario_70_79 = grupo_etario.count('70-79')\n",
        "grupo_etario_80_89 = grupo_etario.count('80-89')\n",
        "grupo_etario_90_99 = grupo_etario.count('90-99')\n",
        "grupo_etario_100 = grupo_etario.count('>=100')\n",
        "grupo_etario_sininfo = grupo_etario.count('S.I.')\n",
        "\n",
        "#GRAFICO RANGO ETARIO \n",
        "\n",
        "cantidad_rango_etario = [grupo_etario_18_29, \n",
        "grupo_etario_30_39,\n",
        "grupo_etario_40_49,\n",
        "grupo_etario_50_59,\n",
        "grupo_etario_60_69,\n",
        "grupo_etario_70_79,\n",
        "grupo_etario_80_89,\n",
        "grupo_etario_90_99,\n",
        "grupo_etario_100,\n",
        "grupo_etario_sininfo]\n",
        "rango_etario = ['18-29','30-39','40-49','50-59','60-69','70-79','80-89','90-99', '>=100', 'S.I.']\n",
        "\n",
        "fig,ax = plt.subplots(figsize=(20,10))\n",
        "ax = plt.gca()\n",
        "ax.get_yaxis()\n",
        "ax.get_yaxis().get_major_formatter().set_useOffset(False)\n",
        "ax.get_yaxis().get_major_formatter().set_scientific(False)\n",
        "ax.set_ylabel('Cantidad')\n",
        "ax.set_xlabel('Rango Etario')\n",
        "ax.set_title('Vacunados Según Rango Etario')\n",
        "plt.bar(rango_etario,cantidad_rango_etario)\n",
        "plt.show()"
      ],
      "metadata": {
        "colab": {
          "base_uri": "https://localhost:8080/",
          "height": 621
        },
        "id": "cDjXxdnoZC_r",
        "outputId": "7a50a913-94eb-4707-8633-8088ec82880e"
      },
      "execution_count": 7,
      "outputs": [
        {
          "output_type": "display_data",
          "data": {
            "text/plain": [
              "<Figure size 1440x720 with 1 Axes>"
            ],
            "image/png": "[encoded data removed]"
          },
          "metadata": {
            "needs_background": "light"
          }
        }
      ]
    },
    {
      "cell_type": "code",
      "source": [
        "#contador provincia\n",
        "\n",
        "jurisdiccion_residencia = data['jurisdiccion_aplicacion'].tolist()\n",
        "buenosaires = jurisdiccion_residencia.count('Buenos Aires')\n",
        "caba = jurisdiccion_residencia.count('CABA')\n",
        "larioja = jurisdiccion_residencia.count('La Rioja')\n",
        "mendoza = jurisdiccion_residencia.count('Mendoza')\n",
        "misiones = jurisdiccion_residencia.count('Misiones')\n",
        "entrerios = jurisdiccion_residencia.count('Entre Ríos')\n",
        "santafe = jurisdiccion_residencia.count('Santa Fe')\n",
        "cordoba = jurisdiccion_residencia.count('Córdoba')\n",
        "tucuman = jurisdiccion_residencia.count('Tucumán')\n",
        "lapampa = jurisdiccion_residencia.count('La Pampa')\n",
        "sanluis = jurisdiccion_residencia.count('San Luis')\n",
        "santacruz = jurisdiccion_residencia.count('Santa Cruz')\n",
        "jujuy = jurisdiccion_residencia.count('Jujuy')\n",
        "chaco = jurisdiccion_residencia.count('Chaco')\n",
        "chubut = jurisdiccion_residencia.count('Chubut')\n",
        "santiagodelestero = jurisdiccion_residencia.count('Santiago del Estero')\n",
        "salta = jurisdiccion_residencia.count('Salta')\n",
        "rionegro = jurisdiccion_residencia.count('Río Negro')\n",
        "neuquen = jurisdiccion_residencia.count('Neuquén')\n",
        "sanjuan = jurisdiccion_residencia.count('San Juan')\n",
        "formosa = jurisdiccion_residencia.count('Formosa')\n",
        "corrientes = jurisdiccion_residencia.count('Corrientes')\n",
        "catamarca = jurisdiccion_residencia.count('Catamarca')\n",
        "tierradelfuego = jurisdiccion_residencia.count('Tierra del Fuego')\n",
        "sininformacion = jurisdiccion_residencia.count('S.I.')\n",
        "\n",
        "#GRAFICO POR PROVINCIA\n",
        "\n",
        "cantidad_provincia = [buenosaires,caba,larioja,mendoza,misiones,entrerios,santafe,cordoba,tucuman,lapampa,sanluis,santacruz,jujuy,chaco,chubut,santiagodelestero,salta,rionegro,neuquen,sanjuan,formosa,corrientes,catamarca,tierradelfuego,sininformacion]\n",
        "nombre_provincia = ['Buenos Aires','CABA','La Rioja','Mendoza','Misiones','Entre Ríos','Santa Fe','Córdoba','Tucuman','La Pampa','San Luis','Santa Cruz','Jujuy','Chaco','Chubut','Santiago del Estero','Salta','Río Negro','Neuquén','San Juan','Formosa',\n",
        "                     'Corrientes','Catamarca','Tierra del Fuego','Sin Info']\n",
        "cantidad_provincia.sort(reverse=True)\n",
        "fig,ax = plt.subplots(figsize=(35,10))\n",
        "ax = plt.gca()\n",
        "ax.get_yaxis()\n",
        "ax.get_yaxis().get_major_formatter().set_useOffset(False)\n",
        "ax.get_yaxis().get_major_formatter().set_scientific(False)\n",
        "ax.set_ylabel('Vacunados')\n",
        "ax.set_xlabel('Provincia')\n",
        "ax.set_title('Vacunados Según Provincia')\n",
        "plt.bar(nombre_provincia,cantidad_provincia)\n",
        "plt.show()"
      ],
      "metadata": {
        "colab": {
          "base_uri": "https://localhost:8080/",
          "height": 442
        },
        "id": "aaqOdHxlZGr-",
        "outputId": "a3ee5b16-efed-4c62-ecb2-639ea4ef0c1b"
      },
      "execution_count": 8,
      "outputs": [
        {
          "output_type": "display_data",
          "data": {
            "text/plain": [
              "<Figure size 2520x720 with 1 Axes>"
            ],
            "image/png": "[encoded data removed]"
          },
          "metadata": {
            "needs_background": "light"
          }
        }
      ]
    },
    {
      "cell_type": "code",
      "source": [
        "# Creo los arrays X Y\n",
        "X = np.array(dataFrame.drop(['vacuna'],1))\n",
        "y = np.array(dataFrame['vacuna'])"
      ],
      "metadata": {
        "colab": {
          "base_uri": "https://localhost:8080/"
        },
        "id": "qL6rj6x-ZO0c",
        "outputId": "3a49fc3e-8463-4e1a-e918-89f67e1f0992"
      },
      "execution_count": 10,
      "outputs": [
        {
          "output_type": "stream",
          "name": "stderr",
          "text": [
            "/usr/local/lib/python3.7/dist-packages/ipykernel_launcher.py:2: FutureWarning: In a future version of pandas all arguments of DataFrame.drop except for the argument 'labels' will be keyword-only\n",
            "  \n"
          ]
        }
      ]
    },
    {
      "cell_type": "markdown",
      "source": [
        "## Regresión Logística\n"
      ],
      "metadata": {
        "id": "VkPmJW0nZVLo"
      }
    },
    {
      "cell_type": "code",
      "source": [
        "from sklearn.model_selection import train_test_split\n",
        "X_train, X_test, y_train, y_test = train_test_split(X, y, test_size = 0.2)"
      ],
      "metadata": {
        "id": "0V69EE1SZTGK"
      },
      "execution_count": 11,
      "outputs": []
    },
    {
      "cell_type": "code",
      "source": [
        "from sklearn import preprocessing\n",
        "from sklearn.preprocessing import PolynomialFeatures\n",
        "from sklearn.preprocessing import OneHotEncoder, LabelEncoder\n",
        "\n",
        "polyFeatures = PolynomialFeatures(3)\n",
        "encoder = LabelEncoder()\n",
        "ohencoder = OneHotEncoder()\n",
        "\n",
        "#Transformar los generos a 0=Mujer, 1=Hombres\n",
        "\n",
        "\n",
        "X_train[:,0] = encoder.fit_transform(X_train[:,0])\n",
        "X_test[:,0]  = encoder.transform(X_test[:,0])\n",
        "\n",
        "#Transformo la columna de grupo etario\n",
        "X_train[:,1] = encoder.fit_transform(X_train[:,1])\n",
        "X_test[:,1]  = encoder.transform(X_test[:,1])\n",
        "\n",
        "#Transformo la columna de jurisdiccion de aplicacion\n",
        "X_train[:,2] = encoder.fit_transform(X_train[:,2])\n",
        "X_test[:,2]  = encoder.transform(X_test[:,2])\n",
        "\n",
        "#Trasnformo la columna de condicion_aplicacion\n",
        "X_train[:,3] = encoder.fit_transform(X_train[:,3])\n",
        "X_test[:,3]  = encoder.transform(X_test[:,3])\n",
        "\n",
        "print(X_train)"
      ],
      "metadata": {
        "colab": {
          "base_uri": "https://localhost:8080/"
        },
        "id": "C-TqkJKHZjX-",
        "outputId": "2d572de3-4bc2-48f2-cd5b-af4ab51090af"
      },
      "execution_count": 12,
      "outputs": [
        {
          "output_type": "stream",
          "name": "stdout",
          "text": [
            "[[1 1 12 5]\n",
            " [1 4 6 4]\n",
            " [0 6 16 4]\n",
            " ...\n",
            " [0 4 1 4]\n",
            " [1 4 1 7]\n",
            " [0 5 20 4]]\n"
          ]
        }
      ]
    },
    {
      "cell_type": "code",
      "source": [
        "#Normalizo las categoricas \n",
        "\n",
        "X_train = ohencoder.fit_transform(X_train).toarray()\n",
        "X_test = ohencoder.transform(X_test).toarray()"
      ],
      "metadata": {
        "id": "zH7TzVnOZo3R"
      },
      "execution_count": 13,
      "outputs": []
    },
    {
      "cell_type": "code",
      "source": [
        "#Utilizo la funcion polynomialFeatures\n",
        "\n",
        "X_train = polyFeatures.fit_transform(X_train)\n",
        "X_test = polyFeatures.transform(X_test)"
      ],
      "metadata": {
        "id": "eLcG9NkzZrvl"
      },
      "execution_count": 14,
      "outputs": []
    },
    {
      "cell_type": "code",
      "source": [
        "#Utilizo LogisticRegression \n",
        "from sklearn.linear_model import LogisticRegression\n",
        "from sklearn.metrics import accuracy_score\n",
        "log = LogisticRegression(max_iter=1000).fit(X_train, y_train)\n",
        "y_pred_test = log.predict(X_test)\n",
        "\n",
        "#Verifico su accuracy\n",
        "accuracy_log = accuracy_score(y_test,y_pred_test)\n",
        "print('Accuracy Logistical: {}'.format(accuracy_log))"
      ],
      "metadata": {
        "colab": {
          "base_uri": "https://localhost:8080/"
        },
        "id": "etWps_1JZvog",
        "outputId": "996f8362-8787-487b-c59d-f2ae04e1a9ac"
      },
      "execution_count": 15,
      "outputs": [
        {
          "output_type": "stream",
          "name": "stdout",
          "text": [
            "Accuracy Logistical: 0.5827956989247312\n"
          ]
        }
      ]
    },
    {
      "cell_type": "code",
      "source": [
        "# Pruebo con knn \n",
        "from sklearn.neighbors import KNeighborsClassifier\n",
        "\n",
        "knn = KNeighborsClassifier()\n",
        "\n",
        "knn.fit(X_train,y_train)\n",
        "\n",
        "y_pred_test = knn.predict(X_test)\n",
        "\n",
        "#Verifico su accuracy\n",
        "accuracy_log = accuracy_score(y_test,y_pred_test)\n",
        "print('Accuracy Logistical: {}'.format(accuracy_log))"
      ],
      "metadata": {
        "colab": {
          "base_uri": "https://localhost:8080/"
        },
        "id": "BZQAvVSsaDDo",
        "outputId": "8fb16524-3c48-402e-8324-ad4c30e4d906"
      },
      "execution_count": 16,
      "outputs": [
        {
          "output_type": "stream",
          "name": "stdout",
          "text": [
            "Accuracy Logistical: 0.5448028673835126\n"
          ]
        }
      ]
    },
    {
      "cell_type": "code",
      "source": [
        ""
      ],
      "metadata": {
        "id": "YqKHEX5Ie7_C"
      },
      "execution_count": 26,
      "outputs": []
    }
  ]
}